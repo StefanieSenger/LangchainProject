{
 "cells": [
  {
   "cell_type": "code",
   "execution_count": 1,
   "metadata": {},
   "outputs": [],
   "source": [
    "import sys\n",
    "import importlib\n",
    "\n",
    "from langchain.chat_models.openai import ChatOpenAI\n",
    "from langchain.chains import LLMChain\n",
    "from langchain.schema.output_parser import StrOutputParser\n",
    "from langchain.schema.runnable import RunnablePassthrough\n",
    "from langchain.tools import Tool\n",
    "\n",
    "# quickfix, since modules from relative imports were not found\n",
    "sys.path.append(\"/Users/stefanie/Documents/code/RAG_Langchain\")\n",
    "importlib.import_module(\"modules.prompts\", package=\"RAG_Langchain\")\n",
    "importlib.import_module(\"modules.agent\", package=\"RAG_Langchain\")\n",
    "\n",
    "from modules.prompts import DebugPrompt, MobyPrompt\n",
    "from modules.retriever import Retriever"
   ]
  },
  {
   "cell_type": "code",
   "execution_count": 2,
   "metadata": {},
   "outputs": [],
   "source": [
    "# define user query\n",
    "query = \"Find a sentence that would be terrible advice for a DIY project.\""
   ]
  },
  {
   "cell_type": "code",
   "execution_count": 3,
   "metadata": {},
   "outputs": [],
   "source": [
    "# get additional context from embedding retriever\n",
    "retriever = Retriever().retriever\n",
    "#retriever = retriever.embed().retrieve()"
   ]
  },
  {
   "cell_type": "code",
   "execution_count": 4,
   "metadata": {},
   "outputs": [],
   "source": [
    "# get prompt\n",
    "prompt = MobyPrompt.prompt\n",
    "#prompt = DebugPrompt.prompt"
   ]
  },
  {
   "cell_type": "code",
   "execution_count": 5,
   "metadata": {},
   "outputs": [],
   "source": [
    "# define llm model\n",
    "llm = ChatOpenAI(model=\"gpt-3.5-turbo\", temperature=0)\n",
    "llm_with_stop = llm.bind(stop=[\"\\nQuestion:\"])"
   ]
  },
  {
   "cell_type": "code",
   "execution_count": 6,
   "metadata": {},
   "outputs": [
    {
     "ename": "AttributeError",
     "evalue": "'VectorStoreRetriever' object has no attribute 'context'",
     "output_type": "error",
     "traceback": [
      "\u001b[0;31m---------------------------------------------------------------------------\u001b[0m",
      "\u001b[0;31mAttributeError\u001b[0m                            Traceback (most recent call last)",
      "\u001b[1;32m/Users/stefanie/Documents/code/RAG_Langchain/notebooks/dev_notebook.ipynb Cell 6\u001b[0m line \u001b[0;36m3\n\u001b[1;32m      <a href='vscode-notebook-cell:/Users/stefanie/Documents/code/RAG_Langchain/notebooks/dev_notebook.ipynb#W5sZmlsZQ%3D%3D?line=0'>1</a>\u001b[0m \u001b[39m# legacy way\u001b[39;00m\n\u001b[1;32m      <a href='vscode-notebook-cell:/Users/stefanie/Documents/code/RAG_Langchain/notebooks/dev_notebook.ipynb#W5sZmlsZQ%3D%3D?line=1'>2</a>\u001b[0m llmchain \u001b[39m=\u001b[39m LLMChain(llm\u001b[39m=\u001b[39mllm_with_stop, prompt\u001b[39m=\u001b[39mprompt, output_key\u001b[39m=\u001b[39m\u001b[39m'\u001b[39m\u001b[39moutput\u001b[39m\u001b[39m'\u001b[39m, verbose\u001b[39m=\u001b[39m\u001b[39mTrue\u001b[39;00m)\n\u001b[0;32m----> <a href='vscode-notebook-cell:/Users/stefanie/Documents/code/RAG_Langchain/notebooks/dev_notebook.ipynb#W5sZmlsZQ%3D%3D?line=2'>3</a>\u001b[0m resp \u001b[39m=\u001b[39m llmchain({\u001b[39m'\u001b[39m\u001b[39mcontext\u001b[39m\u001b[39m'\u001b[39m: retriever\u001b[39m.\u001b[39;49mcontext, \u001b[39m'\u001b[39m\u001b[39mquery\u001b[39m\u001b[39m'\u001b[39m: query})\n\u001b[1;32m      <a href='vscode-notebook-cell:/Users/stefanie/Documents/code/RAG_Langchain/notebooks/dev_notebook.ipynb#W5sZmlsZQ%3D%3D?line=3'>4</a>\u001b[0m \u001b[39mprint\u001b[39m(resp[\u001b[39m'\u001b[39m\u001b[39moutput\u001b[39m\u001b[39m'\u001b[39m])\n",
      "\u001b[0;31mAttributeError\u001b[0m: 'VectorStoreRetriever' object has no attribute 'context'"
     ]
    }
   ],
   "source": [
    "# legacy way\n",
    "llmchain = LLMChain(llm=llm_with_stop, prompt=prompt, output_key='output', verbose=True)\n",
    "resp = llmchain({'context': retriever.context, 'query': query})\n",
    "print(resp['output'])"
   ]
  },
  {
   "cell_type": "code",
   "execution_count": 9,
   "metadata": {},
   "outputs": [
    {
     "ename": "AttributeError",
     "evalue": "'VectorStoreRetriever' object has no attribute 'context'",
     "output_type": "error",
     "traceback": [
      "\u001b[0;31m---------------------------------------------------------------------------\u001b[0m",
      "\u001b[0;31mAttributeError\u001b[0m                            Traceback (most recent call last)",
      "\u001b[1;32m/Users/stefanie/Documents/code/RAG_Langchain/notebooks/dev_notebook.ipynb Cell 7\u001b[0m line \u001b[0;36m4\n\u001b[1;32m      <a href='vscode-notebook-cell:/Users/stefanie/Documents/code/RAG_Langchain/notebooks/dev_notebook.ipynb#W6sZmlsZQ%3D%3D?line=0'>1</a>\u001b[0m \u001b[39m# LCEL I\u001b[39;00m\n\u001b[1;32m      <a href='vscode-notebook-cell:/Users/stefanie/Documents/code/RAG_Langchain/notebooks/dev_notebook.ipynb#W6sZmlsZQ%3D%3D?line=1'>2</a>\u001b[0m chain \u001b[39m=\u001b[39m ({\u001b[39m\"\u001b[39m\u001b[39mcontext\u001b[39m\u001b[39m\"\u001b[39m: RunnablePassthrough(), \u001b[39m\"\u001b[39m\u001b[39mquery\u001b[39m\u001b[39m\"\u001b[39m: RunnablePassthrough()}) \u001b[39m|\u001b[39m prompt \u001b[39m|\u001b[39m llm \u001b[39m|\u001b[39m StrOutputParser()\n\u001b[0;32m----> <a href='vscode-notebook-cell:/Users/stefanie/Documents/code/RAG_Langchain/notebooks/dev_notebook.ipynb#W6sZmlsZQ%3D%3D?line=3'>4</a>\u001b[0m chain\u001b[39m.\u001b[39minvoke({\u001b[39m\"\u001b[39m\u001b[39mcontext\u001b[39m\u001b[39m\"\u001b[39m: retriever\u001b[39m.\u001b[39;49mcontext,\n\u001b[1;32m      <a href='vscode-notebook-cell:/Users/stefanie/Documents/code/RAG_Langchain/notebooks/dev_notebook.ipynb#W6sZmlsZQ%3D%3D?line=4'>5</a>\u001b[0m               \u001b[39m\"\u001b[39m\u001b[39mquery\u001b[39m\u001b[39m\"\u001b[39m: query})\n",
      "\u001b[0;31mAttributeError\u001b[0m: 'VectorStoreRetriever' object has no attribute 'context'"
     ]
    }
   ],
   "source": [
    "# LCEL I\n",
    "chain = ({\"context\": RunnablePassthrough(), \"query\": RunnablePassthrough()}) | prompt | llm | StrOutputParser()\n",
    "\n",
    "chain.invoke({\"context\": retriever.context,\n",
    "              \"query\": query})\n"
   ]
  },
  {
   "cell_type": "code",
   "execution_count": 8,
   "metadata": {},
   "outputs": [
    {
     "ename": "AttributeError",
     "evalue": "'VectorStoreRetriever' object has no attribute 'retriever'",
     "output_type": "error",
     "traceback": [
      "\u001b[0;31m---------------------------------------------------------------------------\u001b[0m",
      "\u001b[0;31mAttributeError\u001b[0m                            Traceback (most recent call last)",
      "\u001b[1;32m/Users/stefanie/Documents/code/RAG_Langchain/notebooks/dev_notebook.ipynb Cell 8\u001b[0m line \u001b[0;36m2\n\u001b[1;32m      <a href='vscode-notebook-cell:/Users/stefanie/Documents/code/RAG_Langchain/notebooks/dev_notebook.ipynb#X10sZmlsZQ%3D%3D?line=0'>1</a>\u001b[0m \u001b[39m# LCEL II\u001b[39;00m\n\u001b[0;32m----> <a href='vscode-notebook-cell:/Users/stefanie/Documents/code/RAG_Langchain/notebooks/dev_notebook.ipynb#X10sZmlsZQ%3D%3D?line=1'>2</a>\u001b[0m chain \u001b[39m=\u001b[39m ({\u001b[39m\"\u001b[39m\u001b[39mcontext\u001b[39m\u001b[39m\"\u001b[39m: retriever\u001b[39m.\u001b[39;49mretriever, \u001b[39m\"\u001b[39m\u001b[39mquery\u001b[39m\u001b[39m\"\u001b[39m: RunnablePassthrough()}) \u001b[39m|\u001b[39m prompt \u001b[39m|\u001b[39m llm \u001b[39m|\u001b[39m StrOutputParser()\n\u001b[1;32m      <a href='vscode-notebook-cell:/Users/stefanie/Documents/code/RAG_Langchain/notebooks/dev_notebook.ipynb#X10sZmlsZQ%3D%3D?line=3'>4</a>\u001b[0m chain\u001b[39m.\u001b[39minvoke(query)\n",
      "\u001b[0;31mAttributeError\u001b[0m: 'VectorStoreRetriever' object has no attribute 'retriever'"
     ]
    }
   ],
   "source": [
    "# LCEL II\n",
    "chain = ({\"context\": retriever.retriever, \"query\": RunnablePassthrough()}) | prompt | llm | StrOutputParser()\n",
    "\n",
    "chain.invoke(query)"
   ]
  },
  {
   "cell_type": "code",
   "execution_count": null,
   "metadata": {},
   "outputs": [],
   "source": [
    "# define tools\n",
    "tools = [\n",
    "    Tool.from_function(\n",
    "        func=retriever.retrieve,\n",
    "        name=\"DocAgent\",\n",
    "        description=\"useful for when you need to search for answer from documents\",\n",
    "    ),\n",
    "]"
   ]
  },
  {
   "cell_type": "code",
   "execution_count": null,
   "metadata": {},
   "outputs": [],
   "source": [
    "# define langchain agent\n",
    "from langchain.agents import initialize_agent, AgentType\n",
    "from langchain.agents.output_parsers import ReActSingleInputOutputParser\n",
    "from langchain.agents.format_scratchpad import format_log_to_str\n",
    "\n",
    "agent = initialize_agent(tools,\n",
    "                         llm,\n",
    "                         agent=AgentType.ZERO_SHOT_REACT_DESCRIPTION,\n",
    "                         agent_scratchpad=\"intermediate_steps\",\n",
    "                         verbose=True)\n",
    "\n",
    "agent = (\n",
    "    {\n",
    "        \"input\": lambda x: x[\"input\"],\n",
    "        \"agent_scratchpad\": lambda x: format_log_to_str(x[\"intermediate_steps\"]),\n",
    "        \"chat_history\": lambda x: x[\"history\"],\n",
    "    }\n",
    "    | prompt\n",
    "    | llm_with_stop\n",
    "    | ReActSingleInputOutputParser()\n",
    ")"
   ]
  },
  {
   "cell_type": "code",
   "execution_count": null,
   "metadata": {},
   "outputs": [],
   "source": [
    "# add memory\n",
    "from langchain.memory import ConversationTokenBufferMemory\n",
    "memory = ConversationTokenBufferMemory(llm=llm, max_token_limit=10)"
   ]
  },
  {
   "cell_type": "code",
   "execution_count": null,
   "metadata": {},
   "outputs": [],
   "source": [
    "# define agent executer\n",
    "from langchain.agents.agent import AgentExecutor\n",
    "agent_executor = AgentExecutor(\n",
    "    agent=agent, tools=tools, verbose=True, memory=memory, handle_parsing_errors=True\n",
    ")"
   ]
  },
  {
   "cell_type": "code",
   "execution_count": null,
   "metadata": {},
   "outputs": [],
   "source": [
    "agent_executor.invoke({\"input\": query})['output']"
   ]
  },
  {
   "cell_type": "code",
   "execution_count": null,
   "metadata": {},
   "outputs": [],
   "source": [
    "# run testsuite\n",
    "pass"
   ]
  }
 ],
 "metadata": {
  "kernelspec": {
   "display_name": "BYOB_Langchain-Oqdqj66r",
   "language": "python",
   "name": "python3"
  },
  "language_info": {
   "codemirror_mode": {
    "name": "ipython",
    "version": 3
   },
   "file_extension": ".py",
   "mimetype": "text/x-python",
   "name": "python",
   "nbconvert_exporter": "python",
   "pygments_lexer": "ipython3",
   "version": "3.11.6"
  }
 },
 "nbformat": 4,
 "nbformat_minor": 2
}
