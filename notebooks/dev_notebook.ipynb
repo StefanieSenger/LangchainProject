{
 "cells": [
  {
   "cell_type": "code",
   "execution_count": 1,
   "metadata": {},
   "outputs": [],
   "source": [
    "import sys\n",
    "import importlib\n",
    "\n",
    "from langchain.chat_models.openai import ChatOpenAI\n",
    "from langchain.chains import LLMChain\n",
    "from langchain.schema.output_parser import StrOutputParser\n",
    "from langchain.schema.runnable import RunnablePassthrough\n",
    "from langchain.tools import Tool\n",
    "\n",
    "# quickfix, since modules from relative imports were not found\n",
    "sys.path.append(\"/Users/stefanie/Documents/code/RAG_Langchain\")\n",
    "importlib.import_module(\"modules.prompts\", package=\"RAG_Langchain\")\n",
    "importlib.import_module(\"modules.agent\", package=\"RAG_Langchain\")\n",
    "\n",
    "from modules.prompts import DebugPrompt, MobyPrompt\n",
    "from modules.retriever import Retriever"
   ]
  },
  {
   "cell_type": "code",
   "execution_count": 2,
   "metadata": {},
   "outputs": [],
   "source": [
    "# define user query\n",
    "query = \"Find a sentence that would be terrible advice for a DIY project.\""
   ]
  },
  {
   "cell_type": "code",
   "execution_count": 3,
   "metadata": {},
   "outputs": [
    {
     "name": "stderr",
     "output_type": "stream",
     "text": [
      "Created a chunk of size 4330, which is longer than the specified 2500\n",
      "Created a chunk of size 2797, which is longer than the specified 2500\n",
      "Created a chunk of size 2594, which is longer than the specified 2500\n",
      "Created a chunk of size 2872, which is longer than the specified 2500\n",
      "Created a chunk of size 2682, which is longer than the specified 2500\n",
      "Created a chunk of size 2953, which is longer than the specified 2500\n",
      "Created a chunk of size 2597, which is longer than the specified 2500\n",
      "Created a chunk of size 3670, which is longer than the specified 2500\n",
      "Created a chunk of size 2542, which is longer than the specified 2500\n",
      "Created a chunk of size 2881, which is longer than the specified 2500\n",
      "Created a chunk of size 3525, which is longer than the specified 2500\n",
      "Created a chunk of size 2577, which is longer than the specified 2500\n",
      "Created a chunk of size 2757, which is longer than the specified 2500\n",
      "Created a chunk of size 2514, which is longer than the specified 2500\n",
      "Created a chunk of size 2924, which is longer than the specified 2500\n",
      "Created a chunk of size 2905, which is longer than the specified 2500\n",
      "Created a chunk of size 2788, which is longer than the specified 2500\n",
      "Created a chunk of size 3624, which is longer than the specified 2500\n",
      "Created a chunk of size 2589, which is longer than the specified 2500\n",
      "Created a chunk of size 2772, which is longer than the specified 2500\n",
      "Created a chunk of size 2788, which is longer than the specified 2500\n",
      "Created a chunk of size 2667, which is longer than the specified 2500\n"
     ]
    }
   ],
   "source": [
    "# get additional context from embedding retriever\n",
    "retriever = Retriever(query)\n",
    "retriever = retriever.embed().retrieve()"
   ]
  },
  {
   "cell_type": "code",
   "execution_count": 4,
   "metadata": {},
   "outputs": [],
   "source": [
    "# get prompt\n",
    "prompt = MobyPrompt.prompt\n",
    "#prompt = DebugPrompt.prompt"
   ]
  },
  {
   "cell_type": "code",
   "execution_count": 5,
   "metadata": {},
   "outputs": [],
   "source": [
    "# define llm model\n",
    "llm = ChatOpenAI(model=\"gpt-3.5-turbo\", temperature=0)\n",
    "llm_with_stop = llm.bind(stop=[\"\\nQuestion:\"])"
   ]
  },
  {
   "cell_type": "code",
   "execution_count": 6,
   "metadata": {},
   "outputs": [
    {
     "name": "stdout",
     "output_type": "stream",
     "text": [
      "\n",
      "\n",
      "\u001b[1m> Entering new LLMChain chain...\u001b[0m\n",
      "Prompt after formatting:\n",
      "\u001b[32;1m\u001b[1;3mHuman: We are playing the party game \"Bring your own Book\". You are only allowed to answer \n",
      "    with anything else than quotes from the provided documents, known to you as \"context\". \n",
      "    \n",
      "    \"context\" contains passages from Herman Melville's \"Moby-Dick\" and you can use your knowledge \n",
      "    about this novel and the historical setting to find the most suitable anwers. Please take care\n",
      "    that your answer matches correct text type requested in the query.\n",
      "\n",
      "    Only answer with direct quotes from the \"context\".\n",
      "\n",
      "    context = A belaying pin is found too large to be easily inserted into its hole:\n",
      "the carpenter claps it into one of his ever-ready vices, and\n",
      "straightway files it smaller. A lost land-bird of strange plumage\n",
      "strays on board, and is made a captive: out of clean shaved rods of\n",
      "right-whale bone, and cross-beams of sperm whale ivory, the carpenter\n",
      "makes a pagoda-looking cage for it. An oarsman sprains his wrist: the\n",
      "carpenter concocts a soothing lotion. Stubb longed for vermillion stars\n",
      "to be painted upon the blade of his every oar; screwing each oar in his\n",
      "big vice of wood, the carpenter symmetrically supplies the\n",
      "constellation. A sailor takes a fancy to wear shark-bone ear-rings: the\n",
      "carpenter drills his ears. Another has the toothache: the carpenter out\n",
      "pincers, and clapping one hand upon his bench bids him be seated there;\n",
      "but the poor fellow unmanageably winces under the unconcluded\n",
      "operation; whirling round the handle of his wooden vice, the carpenter\n",
      "signs him to clap his jaw in that, if he would have him draw the tooth.../data/id_15.txt\n",
      "He was an old man, who, at the age of nearly sixty, had postponedly\n",
      "encountered that thing in sorrow’s technicals called ruin. He had been\n",
      "an artisan of famed excellence, and with plenty to do; owned a house\n",
      "and garden; embraced a youthful, daughter-like, loving wife, and three\n",
      "blithe, ruddy children; every Sunday went to a cheerful-looking church,\n",
      "planted in a grove. But one night, under cover of darkness, and further\n",
      "concealed in a most cunning disguisement, a desperate burglar slid into\n",
      "his happy home, and robbed them all of everything. And darker yet to\n",
      "tell, the blacksmith himself did ignorantly conduct this burglar into\n",
      "his family’s heart. It was the Bottle Conjuror! Upon the opening of\n",
      "that fatal cork, forth flew the fiend, and shrivelled up his home. Now,\n",
      "for prudent, most wise, and economic reasons, the blacksmith’s shop was\n",
      "in the basement of his dwelling, but with a separate entrance to it; so\n",
      "that always had the young and loving healthy wife listened with no\n",
      "unhappy nervousness, but with vigorous pleasure, to the stout ringing\n",
      "of her young-armed old husband’s hammer; whose reverberations, muffled\n",
      "by passing through the floors and walls, came up to her, not unsweetly,\n",
      "in her nursery; and so, to stout Labor’s iron lullaby, the blacksmith’s\n",
      "infants were rocked to slumber.\n",
      "\n",
      "Oh, woe on woe! Oh, Death, why canst thou not sometimes be timely?\n",
      "Hadst thou taken this old blacksmith to thyself ere his full ruin came\n",
      "upon him, then had the young widow had a delicious grief, and her\n",
      "orphans a truly venerable, legendary sire to dream of in their after\n",
      "years; and all of them a care-killing competency. But Death plucked\n",
      "down some virtuous elder brother, on whose whistling daily toil solely\n",
      "hung the responsibilities of some other family, and left the worse than\n",
      "useless old man standing, till the hideous rot of life should make him\n",
      "easier to harvest.\n",
      "\n",
      "Why tell the whole? The blows of the basement hammer every day grew\n",
      "more and more between; and each blow every day grew fainter than the\n",
      "last; the wife sat frozen at the window, with tearless eyes,\n",
      "glitteringly gazing into the weeping faces of her children; the bellows\n",
      "fell; the forge choked up with cinders; the house was sold; the mother\n",
      "dived down into the long church-yard grass; her children twice followed\n",
      "her thither; and the houseless, familyless old man staggered off a\n",
      "vagabond in crape; his every woe unreverenced; his grey head a scorn to\n",
      "flaxen curls!../data/id_15.txt\n",
      "But that night, in particular, a strange (and ever since inexplicable)\n",
      "thing occurred to me. Starting from a brief standing sleep, I was\n",
      "horribly conscious of something fatally wrong. The jaw-bone tiller\n",
      "smote my side, which leaned against it; in my ears was the low hum of\n",
      "sails, just beginning to shake in the wind; I thought my eyes were\n",
      "open; I was half conscious of putting my fingers to the lids and\n",
      "mechanically stretching them still further apart. But, spite of all\n",
      "this, I could see no compass before me to steer by; though it seemed\n",
      "but a minute since I had been watching the card, by the steady binnacle\n",
      "lamp illuminating it. Nothing seemed before me but a jet gloom, now and\n",
      "then made ghastly by flashes of redness. Uppermost was the impression,\n",
      "that whatever swift, rushing thing I stood on was not so much bound to\n",
      "any haven ahead as rushing from all havens astern. A stark, bewildered\n",
      "feeling, as of death, came over me. Convulsively my hands grasped the\n",
      "tiller, but with the crazy conceit that the tiller was, somehow, in\n",
      "some enchanted way, inverted. My God! what is the matter with me?\n",
      "thought I. Lo! in my brief sleep I had turned myself about, and was\n",
      "fronting the ship’s stern, with my back to her prow and the compass. In\n",
      "an instant I faced back, just in time to prevent the vessel from flying\n",
      "up into the wind, and very probably capsizing her. How glad and how\n",
      "grateful the relief from this unnatural hallucination of the night, and\n",
      "the fatal contingency of being brought by the lee!\n",
      "\n",
      "Look not too long in the face of the fire, O man! Never dream with thy\n",
      "hand on the helm! Turn not thy back to the compass; accept the first\n",
      "hint of the hitching tiller; believe not the artificial fire, when its\n",
      "redness makes all things look ghastly. To-morrow, in the natural sun,\n",
      "the skies will be bright; those who glared like devils in the forking\n",
      "flames, the morn will show in far other, at least gentler, relief; the\n",
      "glorious, golden, glad sun, the only true lamp—all others but liars!../data/id_15.txt\n",
      "\n",
      "\n",
      "    Question: Find a sentence that would be terrible advice for a DIY project.\n",
      "    \u001b[0m\n",
      "\n",
      "\u001b[1m> Finished chain.\u001b[0m\n",
      "Turn not thy back to the compass; accept the first hint of the hitching tiller.\n"
     ]
    }
   ],
   "source": [
    "# legacy way\n",
    "llmchain = LLMChain(llm=llm_with_stop, prompt=prompt, output_key='output', verbose=True)\n",
    "resp = llmchain({'context': retriever.context, 'query': query})\n",
    "print(resp['output'])"
   ]
  },
  {
   "cell_type": "code",
   "execution_count": 7,
   "metadata": {},
   "outputs": [
    {
     "data": {
      "text/plain": [
       "'\"Turn not thy back to the compass; accept the first hint of the hitching tiller; believe not the artificial fire, when its redness makes all things look ghastly.\"'"
      ]
     },
     "execution_count": 7,
     "metadata": {},
     "output_type": "execute_result"
    }
   ],
   "source": [
    "# LCEL I\n",
    "chain = ({\"context\": RunnablePassthrough(), \"query\": RunnablePassthrough()}) | prompt | llm | StrOutputParser()\n",
    "\n",
    "chain.invoke({\"context\": retriever.context,\n",
    "              \"query\": query})\n"
   ]
  },
  {
   "cell_type": "code",
   "execution_count": 8,
   "metadata": {},
   "outputs": [
    {
     "data": {
      "text/plain": [
       "'A belaying pin is found too large to be easily inserted into its hole: the carpenter claps it into one of his ever-ready vices, and straightway files it smaller.'"
      ]
     },
     "execution_count": 8,
     "metadata": {},
     "output_type": "execute_result"
    }
   ],
   "source": [
    "# LCEL II\n",
    "chain = ({\"context\": retriever.retriever, \"query\": RunnablePassthrough()}) | prompt | llm | StrOutputParser()\n",
    "\n",
    "chain.invoke(query)"
   ]
  },
  {
   "cell_type": "code",
   "execution_count": 9,
   "metadata": {},
   "outputs": [],
   "source": [
    "# define tools\n",
    "tools = [\n",
    "    Tool.from_function(\n",
    "        func=retriever.retrieve,\n",
    "        name=\"DocAgent\",\n",
    "        description=\"useful for when you need to search for answer from documents\",\n",
    "    ),\n",
    "]"
   ]
  },
  {
   "cell_type": "code",
   "execution_count": 10,
   "metadata": {},
   "outputs": [],
   "source": [
    "# define langchain agent\n",
    "from langchain.agents import initialize_agent, AgentType\n",
    "from langchain.agents.output_parsers import ReActSingleInputOutputParser\n",
    "from langchain.agents.format_scratchpad import format_log_to_str\n",
    "\n",
    "agent = initialize_agent(tools,\n",
    "                         llm,\n",
    "                         agent=AgentType.ZERO_SHOT_REACT_DESCRIPTION,\n",
    "                         agent_scratchpad=\"intermediate_steps\",\n",
    "                         verbose=True)\n",
    "\n",
    "agent = (\n",
    "    {\n",
    "        \"input\": lambda x: x[\"input\"],\n",
    "        \"agent_scratchpad\": lambda x: format_log_to_str(x[\"intermediate_steps\"]),\n",
    "        \"chat_history\": lambda x: x[\"history\"],\n",
    "    }\n",
    "    | prompt\n",
    "    | llm_with_stop\n",
    "    | ReActSingleInputOutputParser()\n",
    ")"
   ]
  },
  {
   "cell_type": "code",
   "execution_count": 11,
   "metadata": {},
   "outputs": [],
   "source": [
    "# add memory\n",
    "from langchain.memory import ConversationTokenBufferMemory\n",
    "memory = ConversationTokenBufferMemory(llm=llm, max_token_limit=10)"
   ]
  },
  {
   "cell_type": "code",
   "execution_count": 12,
   "metadata": {},
   "outputs": [],
   "source": [
    "# define agent executer\n",
    "from langchain.agents.agent import AgentExecutor\n",
    "agent_executor = AgentExecutor(\n",
    "    agent=agent, tools=tools, verbose=True, memory=memory, handle_parsing_errors=True\n",
    ")"
   ]
  },
  {
   "cell_type": "code",
   "execution_count": 13,
   "metadata": {},
   "outputs": [
    {
     "name": "stdout",
     "output_type": "stream",
     "text": [
      "\n",
      "\n",
      "\u001b[1m> Entering new AgentExecutor chain...\u001b[0m\n"
     ]
    },
    {
     "ename": "KeyError",
     "evalue": "'context'",
     "output_type": "error",
     "traceback": [
      "\u001b[0;31m---------------------------------------------------------------------------\u001b[0m",
      "\u001b[0;31mKeyError\u001b[0m                                  Traceback (most recent call last)",
      "\u001b[1;32m/Users/stefanie/Documents/code/RAG_Langchain/notebooks/dev_notebook.ipynb Cell 13\u001b[0m line \u001b[0;36m1\n\u001b[0;32m----> <a href='vscode-notebook-cell:/Users/stefanie/Documents/code/RAG_Langchain/notebooks/dev_notebook.ipynb#X33sZmlsZQ%3D%3D?line=0'>1</a>\u001b[0m agent_executor\u001b[39m.\u001b[39;49minvoke({\u001b[39m\"\u001b[39;49m\u001b[39minput\u001b[39;49m\u001b[39m\"\u001b[39;49m: query})[\u001b[39m'\u001b[39m\u001b[39moutput\u001b[39m\u001b[39m'\u001b[39m]\n",
      "File \u001b[0;32m~/.local/share/virtualenvs/BYOB_Langchain-Oqdqj66r/lib/python3.11/site-packages/langchain/chains/base.py:87\u001b[0m, in \u001b[0;36mChain.invoke\u001b[0;34m(self, input, config, **kwargs)\u001b[0m\n\u001b[1;32m     80\u001b[0m \u001b[39mdef\u001b[39;00m \u001b[39minvoke\u001b[39m(\n\u001b[1;32m     81\u001b[0m     \u001b[39mself\u001b[39m,\n\u001b[1;32m     82\u001b[0m     \u001b[39minput\u001b[39m: Dict[\u001b[39mstr\u001b[39m, Any],\n\u001b[1;32m     83\u001b[0m     config: Optional[RunnableConfig] \u001b[39m=\u001b[39m \u001b[39mNone\u001b[39;00m,\n\u001b[1;32m     84\u001b[0m     \u001b[39m*\u001b[39m\u001b[39m*\u001b[39mkwargs: Any,\n\u001b[1;32m     85\u001b[0m ) \u001b[39m-\u001b[39m\u001b[39m>\u001b[39m Dict[\u001b[39mstr\u001b[39m, Any]:\n\u001b[1;32m     86\u001b[0m     config \u001b[39m=\u001b[39m config \u001b[39mor\u001b[39;00m {}\n\u001b[0;32m---> 87\u001b[0m     \u001b[39mreturn\u001b[39;00m \u001b[39mself\u001b[39;49m(\n\u001b[1;32m     88\u001b[0m         \u001b[39minput\u001b[39;49m,\n\u001b[1;32m     89\u001b[0m         callbacks\u001b[39m=\u001b[39;49mconfig\u001b[39m.\u001b[39;49mget(\u001b[39m\"\u001b[39;49m\u001b[39mcallbacks\u001b[39;49m\u001b[39m\"\u001b[39;49m),\n\u001b[1;32m     90\u001b[0m         tags\u001b[39m=\u001b[39;49mconfig\u001b[39m.\u001b[39;49mget(\u001b[39m\"\u001b[39;49m\u001b[39mtags\u001b[39;49m\u001b[39m\"\u001b[39;49m),\n\u001b[1;32m     91\u001b[0m         metadata\u001b[39m=\u001b[39;49mconfig\u001b[39m.\u001b[39;49mget(\u001b[39m\"\u001b[39;49m\u001b[39mmetadata\u001b[39;49m\u001b[39m\"\u001b[39;49m),\n\u001b[1;32m     92\u001b[0m         run_name\u001b[39m=\u001b[39;49mconfig\u001b[39m.\u001b[39;49mget(\u001b[39m\"\u001b[39;49m\u001b[39mrun_name\u001b[39;49m\u001b[39m\"\u001b[39;49m),\n\u001b[1;32m     93\u001b[0m         \u001b[39m*\u001b[39;49m\u001b[39m*\u001b[39;49mkwargs,\n\u001b[1;32m     94\u001b[0m     )\n",
      "File \u001b[0;32m~/.local/share/virtualenvs/BYOB_Langchain-Oqdqj66r/lib/python3.11/site-packages/langchain/chains/base.py:310\u001b[0m, in \u001b[0;36mChain.__call__\u001b[0;34m(self, inputs, return_only_outputs, callbacks, tags, metadata, run_name, include_run_info)\u001b[0m\n\u001b[1;32m    308\u001b[0m \u001b[39mexcept\u001b[39;00m \u001b[39mBaseException\u001b[39;00m \u001b[39mas\u001b[39;00m e:\n\u001b[1;32m    309\u001b[0m     run_manager\u001b[39m.\u001b[39mon_chain_error(e)\n\u001b[0;32m--> 310\u001b[0m     \u001b[39mraise\u001b[39;00m e\n\u001b[1;32m    311\u001b[0m run_manager\u001b[39m.\u001b[39mon_chain_end(outputs)\n\u001b[1;32m    312\u001b[0m final_outputs: Dict[\u001b[39mstr\u001b[39m, Any] \u001b[39m=\u001b[39m \u001b[39mself\u001b[39m\u001b[39m.\u001b[39mprep_outputs(\n\u001b[1;32m    313\u001b[0m     inputs, outputs, return_only_outputs\n\u001b[1;32m    314\u001b[0m )\n",
      "File \u001b[0;32m~/.local/share/virtualenvs/BYOB_Langchain-Oqdqj66r/lib/python3.11/site-packages/langchain/chains/base.py:304\u001b[0m, in \u001b[0;36mChain.__call__\u001b[0;34m(self, inputs, return_only_outputs, callbacks, tags, metadata, run_name, include_run_info)\u001b[0m\n\u001b[1;32m    297\u001b[0m run_manager \u001b[39m=\u001b[39m callback_manager\u001b[39m.\u001b[39mon_chain_start(\n\u001b[1;32m    298\u001b[0m     dumpd(\u001b[39mself\u001b[39m),\n\u001b[1;32m    299\u001b[0m     inputs,\n\u001b[1;32m    300\u001b[0m     name\u001b[39m=\u001b[39mrun_name,\n\u001b[1;32m    301\u001b[0m )\n\u001b[1;32m    302\u001b[0m \u001b[39mtry\u001b[39;00m:\n\u001b[1;32m    303\u001b[0m     outputs \u001b[39m=\u001b[39m (\n\u001b[0;32m--> 304\u001b[0m         \u001b[39mself\u001b[39;49m\u001b[39m.\u001b[39;49m_call(inputs, run_manager\u001b[39m=\u001b[39;49mrun_manager)\n\u001b[1;32m    305\u001b[0m         \u001b[39mif\u001b[39;00m new_arg_supported\n\u001b[1;32m    306\u001b[0m         \u001b[39melse\u001b[39;00m \u001b[39mself\u001b[39m\u001b[39m.\u001b[39m_call(inputs)\n\u001b[1;32m    307\u001b[0m     )\n\u001b[1;32m    308\u001b[0m \u001b[39mexcept\u001b[39;00m \u001b[39mBaseException\u001b[39;00m \u001b[39mas\u001b[39;00m e:\n\u001b[1;32m    309\u001b[0m     run_manager\u001b[39m.\u001b[39mon_chain_error(e)\n",
      "File \u001b[0;32m~/.local/share/virtualenvs/BYOB_Langchain-Oqdqj66r/lib/python3.11/site-packages/langchain/agents/agent.py:1167\u001b[0m, in \u001b[0;36mAgentExecutor._call\u001b[0;34m(self, inputs, run_manager)\u001b[0m\n\u001b[1;32m   1165\u001b[0m \u001b[39m# We now enter the agent loop (until it returns something).\u001b[39;00m\n\u001b[1;32m   1166\u001b[0m \u001b[39mwhile\u001b[39;00m \u001b[39mself\u001b[39m\u001b[39m.\u001b[39m_should_continue(iterations, time_elapsed):\n\u001b[0;32m-> 1167\u001b[0m     next_step_output \u001b[39m=\u001b[39m \u001b[39mself\u001b[39;49m\u001b[39m.\u001b[39;49m_take_next_step(\n\u001b[1;32m   1168\u001b[0m         name_to_tool_map,\n\u001b[1;32m   1169\u001b[0m         color_mapping,\n\u001b[1;32m   1170\u001b[0m         inputs,\n\u001b[1;32m   1171\u001b[0m         intermediate_steps,\n\u001b[1;32m   1172\u001b[0m         run_manager\u001b[39m=\u001b[39;49mrun_manager,\n\u001b[1;32m   1173\u001b[0m     )\n\u001b[1;32m   1174\u001b[0m     \u001b[39mif\u001b[39;00m \u001b[39misinstance\u001b[39m(next_step_output, AgentFinish):\n\u001b[1;32m   1175\u001b[0m         \u001b[39mreturn\u001b[39;00m \u001b[39mself\u001b[39m\u001b[39m.\u001b[39m_return(\n\u001b[1;32m   1176\u001b[0m             next_step_output, intermediate_steps, run_manager\u001b[39m=\u001b[39mrun_manager\n\u001b[1;32m   1177\u001b[0m         )\n",
      "File \u001b[0;32m~/.local/share/virtualenvs/BYOB_Langchain-Oqdqj66r/lib/python3.11/site-packages/langchain/agents/agent.py:954\u001b[0m, in \u001b[0;36mAgentExecutor._take_next_step\u001b[0;34m(self, name_to_tool_map, color_mapping, inputs, intermediate_steps, run_manager)\u001b[0m\n\u001b[1;32m    951\u001b[0m     intermediate_steps \u001b[39m=\u001b[39m \u001b[39mself\u001b[39m\u001b[39m.\u001b[39m_prepare_intermediate_steps(intermediate_steps)\n\u001b[1;32m    953\u001b[0m     \u001b[39m# Call the LLM to see what to do.\u001b[39;00m\n\u001b[0;32m--> 954\u001b[0m     output \u001b[39m=\u001b[39m \u001b[39mself\u001b[39;49m\u001b[39m.\u001b[39;49magent\u001b[39m.\u001b[39;49mplan(\n\u001b[1;32m    955\u001b[0m         intermediate_steps,\n\u001b[1;32m    956\u001b[0m         callbacks\u001b[39m=\u001b[39;49mrun_manager\u001b[39m.\u001b[39;49mget_child() \u001b[39mif\u001b[39;49;00m run_manager \u001b[39melse\u001b[39;49;00m \u001b[39mNone\u001b[39;49;00m,\n\u001b[1;32m    957\u001b[0m         \u001b[39m*\u001b[39;49m\u001b[39m*\u001b[39;49minputs,\n\u001b[1;32m    958\u001b[0m     )\n\u001b[1;32m    959\u001b[0m \u001b[39mexcept\u001b[39;00m OutputParserException \u001b[39mas\u001b[39;00m e:\n\u001b[1;32m    960\u001b[0m     \u001b[39mif\u001b[39;00m \u001b[39misinstance\u001b[39m(\u001b[39mself\u001b[39m\u001b[39m.\u001b[39mhandle_parsing_errors, \u001b[39mbool\u001b[39m):\n",
      "File \u001b[0;32m~/.local/share/virtualenvs/BYOB_Langchain-Oqdqj66r/lib/python3.11/site-packages/langchain/agents/agent.py:389\u001b[0m, in \u001b[0;36mRunnableAgent.plan\u001b[0;34m(self, intermediate_steps, callbacks, **kwargs)\u001b[0m\n\u001b[1;32m    377\u001b[0m \u001b[39m\u001b[39m\u001b[39m\"\"\"Given input, decided what to do.\u001b[39;00m\n\u001b[1;32m    378\u001b[0m \n\u001b[1;32m    379\u001b[0m \u001b[39mArgs:\u001b[39;00m\n\u001b[0;32m   (...)\u001b[0m\n\u001b[1;32m    386\u001b[0m \u001b[39m    Action specifying what tool to use.\u001b[39;00m\n\u001b[1;32m    387\u001b[0m \u001b[39m\"\"\"\u001b[39;00m\n\u001b[1;32m    388\u001b[0m inputs \u001b[39m=\u001b[39m {\u001b[39m*\u001b[39m\u001b[39m*\u001b[39mkwargs, \u001b[39m*\u001b[39m\u001b[39m*\u001b[39m{\u001b[39m\"\u001b[39m\u001b[39mintermediate_steps\u001b[39m\u001b[39m\"\u001b[39m: intermediate_steps}}\n\u001b[0;32m--> 389\u001b[0m output \u001b[39m=\u001b[39m \u001b[39mself\u001b[39;49m\u001b[39m.\u001b[39;49mrunnable\u001b[39m.\u001b[39;49minvoke(inputs, config\u001b[39m=\u001b[39;49m{\u001b[39m\"\u001b[39;49m\u001b[39mcallbacks\u001b[39;49m\u001b[39m\"\u001b[39;49m: callbacks})\n\u001b[1;32m    390\u001b[0m \u001b[39mif\u001b[39;00m \u001b[39misinstance\u001b[39m(output, AgentAction):\n\u001b[1;32m    391\u001b[0m     output \u001b[39m=\u001b[39m [output]\n",
      "File \u001b[0;32m~/.local/share/virtualenvs/BYOB_Langchain-Oqdqj66r/lib/python3.11/site-packages/langchain/schema/runnable/base.py:1213\u001b[0m, in \u001b[0;36mRunnableSequence.invoke\u001b[0;34m(self, input, config)\u001b[0m\n\u001b[1;32m   1211\u001b[0m \u001b[39mtry\u001b[39;00m:\n\u001b[1;32m   1212\u001b[0m     \u001b[39mfor\u001b[39;00m i, step \u001b[39min\u001b[39;00m \u001b[39menumerate\u001b[39m(\u001b[39mself\u001b[39m\u001b[39m.\u001b[39msteps):\n\u001b[0;32m-> 1213\u001b[0m         \u001b[39minput\u001b[39m \u001b[39m=\u001b[39m step\u001b[39m.\u001b[39;49minvoke(\n\u001b[1;32m   1214\u001b[0m             \u001b[39minput\u001b[39;49m,\n\u001b[1;32m   1215\u001b[0m             \u001b[39m# mark each step as a child run\u001b[39;49;00m\n\u001b[1;32m   1216\u001b[0m             patch_config(\n\u001b[1;32m   1217\u001b[0m                 config, callbacks\u001b[39m=\u001b[39;49mrun_manager\u001b[39m.\u001b[39;49mget_child(\u001b[39mf\u001b[39;49m\u001b[39m\"\u001b[39;49m\u001b[39mseq:step:\u001b[39;49m\u001b[39m{\u001b[39;49;00mi\u001b[39m+\u001b[39;49m\u001b[39m1\u001b[39;49m\u001b[39m}\u001b[39;49;00m\u001b[39m\"\u001b[39;49m)\n\u001b[1;32m   1218\u001b[0m             ),\n\u001b[1;32m   1219\u001b[0m         )\n\u001b[1;32m   1220\u001b[0m \u001b[39m# finish the root run\u001b[39;00m\n\u001b[1;32m   1221\u001b[0m \u001b[39mexcept\u001b[39;00m \u001b[39mBaseException\u001b[39;00m \u001b[39mas\u001b[39;00m e:\n",
      "File \u001b[0;32m~/.local/share/virtualenvs/BYOB_Langchain-Oqdqj66r/lib/python3.11/site-packages/langchain/schema/prompt_template.py:60\u001b[0m, in \u001b[0;36mBasePromptTemplate.invoke\u001b[0;34m(self, input, config)\u001b[0m\n\u001b[1;32m     57\u001b[0m \u001b[39mdef\u001b[39;00m \u001b[39minvoke\u001b[39m(\n\u001b[1;32m     58\u001b[0m     \u001b[39mself\u001b[39m, \u001b[39minput\u001b[39m: Dict, config: Optional[RunnableConfig] \u001b[39m=\u001b[39m \u001b[39mNone\u001b[39;00m\n\u001b[1;32m     59\u001b[0m ) \u001b[39m-\u001b[39m\u001b[39m>\u001b[39m PromptValue:\n\u001b[0;32m---> 60\u001b[0m     \u001b[39mreturn\u001b[39;00m \u001b[39mself\u001b[39;49m\u001b[39m.\u001b[39;49m_call_with_config(\n\u001b[1;32m     61\u001b[0m         \u001b[39mlambda\u001b[39;49;00m inner_input: \u001b[39mself\u001b[39;49m\u001b[39m.\u001b[39;49mformat_prompt(\n\u001b[1;32m     62\u001b[0m             \u001b[39m*\u001b[39;49m\u001b[39m*\u001b[39;49m{key: inner_input[key] \u001b[39mfor\u001b[39;49;00m key \u001b[39min\u001b[39;49;00m \u001b[39mself\u001b[39;49m\u001b[39m.\u001b[39;49minput_variables}\n\u001b[1;32m     63\u001b[0m         ),\n\u001b[1;32m     64\u001b[0m         \u001b[39minput\u001b[39;49m,\n\u001b[1;32m     65\u001b[0m         config,\n\u001b[1;32m     66\u001b[0m         run_type\u001b[39m=\u001b[39;49m\u001b[39m\"\u001b[39;49m\u001b[39mprompt\u001b[39;49m\u001b[39m\"\u001b[39;49m,\n\u001b[1;32m     67\u001b[0m     )\n",
      "File \u001b[0;32m~/.local/share/virtualenvs/BYOB_Langchain-Oqdqj66r/lib/python3.11/site-packages/langchain/schema/runnable/base.py:715\u001b[0m, in \u001b[0;36mRunnable._call_with_config\u001b[0;34m(self, func, input, config, run_type, **kwargs)\u001b[0m\n\u001b[1;32m    708\u001b[0m run_manager \u001b[39m=\u001b[39m callback_manager\u001b[39m.\u001b[39mon_chain_start(\n\u001b[1;32m    709\u001b[0m     dumpd(\u001b[39mself\u001b[39m),\n\u001b[1;32m    710\u001b[0m     \u001b[39minput\u001b[39m,\n\u001b[1;32m    711\u001b[0m     run_type\u001b[39m=\u001b[39mrun_type,\n\u001b[1;32m    712\u001b[0m     name\u001b[39m=\u001b[39mconfig\u001b[39m.\u001b[39mget(\u001b[39m\"\u001b[39m\u001b[39mrun_name\u001b[39m\u001b[39m\"\u001b[39m),\n\u001b[1;32m    713\u001b[0m )\n\u001b[1;32m    714\u001b[0m \u001b[39mtry\u001b[39;00m:\n\u001b[0;32m--> 715\u001b[0m     output \u001b[39m=\u001b[39m call_func_with_variable_args(\n\u001b[1;32m    716\u001b[0m         func, \u001b[39minput\u001b[39;49m, config, run_manager, \u001b[39m*\u001b[39;49m\u001b[39m*\u001b[39;49mkwargs\n\u001b[1;32m    717\u001b[0m     )\n\u001b[1;32m    718\u001b[0m \u001b[39mexcept\u001b[39;00m \u001b[39mBaseException\u001b[39;00m \u001b[39mas\u001b[39;00m e:\n\u001b[1;32m    719\u001b[0m     run_manager\u001b[39m.\u001b[39mon_chain_error(e)\n",
      "File \u001b[0;32m~/.local/share/virtualenvs/BYOB_Langchain-Oqdqj66r/lib/python3.11/site-packages/langchain/schema/runnable/config.py:308\u001b[0m, in \u001b[0;36mcall_func_with_variable_args\u001b[0;34m(func, input, config, run_manager, **kwargs)\u001b[0m\n\u001b[1;32m    306\u001b[0m \u001b[39mif\u001b[39;00m run_manager \u001b[39mis\u001b[39;00m \u001b[39mnot\u001b[39;00m \u001b[39mNone\u001b[39;00m \u001b[39mand\u001b[39;00m accepts_run_manager(func):\n\u001b[1;32m    307\u001b[0m     kwargs[\u001b[39m\"\u001b[39m\u001b[39mrun_manager\u001b[39m\u001b[39m\"\u001b[39m] \u001b[39m=\u001b[39m run_manager\n\u001b[0;32m--> 308\u001b[0m \u001b[39mreturn\u001b[39;00m func(\u001b[39minput\u001b[39;49m, \u001b[39m*\u001b[39;49m\u001b[39m*\u001b[39;49mkwargs)\n",
      "File \u001b[0;32m~/.local/share/virtualenvs/BYOB_Langchain-Oqdqj66r/lib/python3.11/site-packages/langchain/schema/prompt_template.py:62\u001b[0m, in \u001b[0;36mBasePromptTemplate.invoke.<locals>.<lambda>\u001b[0;34m(inner_input)\u001b[0m\n\u001b[1;32m     57\u001b[0m \u001b[39mdef\u001b[39;00m \u001b[39minvoke\u001b[39m(\n\u001b[1;32m     58\u001b[0m     \u001b[39mself\u001b[39m, \u001b[39minput\u001b[39m: Dict, config: Optional[RunnableConfig] \u001b[39m=\u001b[39m \u001b[39mNone\u001b[39;00m\n\u001b[1;32m     59\u001b[0m ) \u001b[39m-\u001b[39m\u001b[39m>\u001b[39m PromptValue:\n\u001b[1;32m     60\u001b[0m     \u001b[39mreturn\u001b[39;00m \u001b[39mself\u001b[39m\u001b[39m.\u001b[39m_call_with_config(\n\u001b[1;32m     61\u001b[0m         \u001b[39mlambda\u001b[39;00m inner_input: \u001b[39mself\u001b[39m\u001b[39m.\u001b[39mformat_prompt(\n\u001b[0;32m---> 62\u001b[0m             \u001b[39m*\u001b[39m\u001b[39m*\u001b[39m{key: inner_input[key] \u001b[39mfor\u001b[39;49;00m key \u001b[39min\u001b[39;49;00m \u001b[39mself\u001b[39;49m\u001b[39m.\u001b[39;49minput_variables}\n\u001b[1;32m     63\u001b[0m         ),\n\u001b[1;32m     64\u001b[0m         \u001b[39minput\u001b[39m,\n\u001b[1;32m     65\u001b[0m         config,\n\u001b[1;32m     66\u001b[0m         run_type\u001b[39m=\u001b[39m\u001b[39m\"\u001b[39m\u001b[39mprompt\u001b[39m\u001b[39m\"\u001b[39m,\n\u001b[1;32m     67\u001b[0m     )\n",
      "File \u001b[0;32m~/.local/share/virtualenvs/BYOB_Langchain-Oqdqj66r/lib/python3.11/site-packages/langchain/schema/prompt_template.py:62\u001b[0m, in \u001b[0;36m<dictcomp>\u001b[0;34m(.0)\u001b[0m\n\u001b[1;32m     57\u001b[0m \u001b[39mdef\u001b[39;00m \u001b[39minvoke\u001b[39m(\n\u001b[1;32m     58\u001b[0m     \u001b[39mself\u001b[39m, \u001b[39minput\u001b[39m: Dict, config: Optional[RunnableConfig] \u001b[39m=\u001b[39m \u001b[39mNone\u001b[39;00m\n\u001b[1;32m     59\u001b[0m ) \u001b[39m-\u001b[39m\u001b[39m>\u001b[39m PromptValue:\n\u001b[1;32m     60\u001b[0m     \u001b[39mreturn\u001b[39;00m \u001b[39mself\u001b[39m\u001b[39m.\u001b[39m_call_with_config(\n\u001b[1;32m     61\u001b[0m         \u001b[39mlambda\u001b[39;00m inner_input: \u001b[39mself\u001b[39m\u001b[39m.\u001b[39mformat_prompt(\n\u001b[0;32m---> 62\u001b[0m             \u001b[39m*\u001b[39m\u001b[39m*\u001b[39m{key: inner_input[key] \u001b[39mfor\u001b[39;00m key \u001b[39min\u001b[39;00m \u001b[39mself\u001b[39m\u001b[39m.\u001b[39minput_variables}\n\u001b[1;32m     63\u001b[0m         ),\n\u001b[1;32m     64\u001b[0m         \u001b[39minput\u001b[39m,\n\u001b[1;32m     65\u001b[0m         config,\n\u001b[1;32m     66\u001b[0m         run_type\u001b[39m=\u001b[39m\u001b[39m\"\u001b[39m\u001b[39mprompt\u001b[39m\u001b[39m\"\u001b[39m,\n\u001b[1;32m     67\u001b[0m     )\n",
      "\u001b[0;31mKeyError\u001b[0m: 'context'"
     ]
    }
   ],
   "source": [
    "agent_executor.invoke({\"input\": query})['output']"
   ]
  },
  {
   "cell_type": "code",
   "execution_count": null,
   "metadata": {},
   "outputs": [],
   "source": [
    "# run testsuite\n",
    "pass"
   ]
  }
 ],
 "metadata": {
  "kernelspec": {
   "display_name": "BYOB_Langchain-Oqdqj66r",
   "language": "python",
   "name": "python3"
  },
  "language_info": {
   "codemirror_mode": {
    "name": "ipython",
    "version": 3
   },
   "file_extension": ".py",
   "mimetype": "text/x-python",
   "name": "python",
   "nbconvert_exporter": "python",
   "pygments_lexer": "ipython3",
   "version": "3.11.6"
  }
 },
 "nbformat": 4,
 "nbformat_minor": 2
}
